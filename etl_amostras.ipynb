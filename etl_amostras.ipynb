{
 "cells": [
  {
   "cell_type": "code",
   "execution_count": 1,
   "id": "d06d8b92",
   "metadata": {},
   "outputs": [],
   "source": [
    "import geopandas as gpd\n",
    "import warnings\n",
    "warnings.filterwarnings('ignore') # somente para ignorar os warnings\n",
    "from tqdm import tqdm_notebook as tqdm # barra de progresso\n",
    "import psycopg2"
   ]
  },
  {
   "cell_type": "code",
   "execution_count": 2,
   "id": "a12c3a03",
   "metadata": {},
   "outputs": [],
   "source": [
    "gdf = gpd.read_file(\"amostras.geojson\")"
   ]
  },
  {
   "cell_type": "code",
   "execution_count": 3,
   "id": "39cf2bd8",
   "metadata": {},
   "outputs": [
    {
     "data": {
      "text/html": [
       "<div>\n",
       "<style scoped>\n",
       "    .dataframe tbody tr th:only-of-type {\n",
       "        vertical-align: middle;\n",
       "    }\n",
       "\n",
       "    .dataframe tbody tr th {\n",
       "        vertical-align: top;\n",
       "    }\n",
       "\n",
       "    .dataframe thead th {\n",
       "        text-align: right;\n",
       "    }\n",
       "</style>\n",
       "<table border=\"1\" class=\"dataframe\">\n",
       "  <thead>\n",
       "    <tr style=\"text-align: right;\">\n",
       "      <th></th>\n",
       "      <th>LULC</th>\n",
       "      <th>geometry</th>\n",
       "    </tr>\n",
       "  </thead>\n",
       "  <tbody>\n",
       "    <tr>\n",
       "      <th>0</th>\n",
       "      <td>0</td>\n",
       "      <td>POLYGON ((-49.42289 -20.73536, -49.42285 -20.7...</td>\n",
       "    </tr>\n",
       "    <tr>\n",
       "      <th>1</th>\n",
       "      <td>0</td>\n",
       "      <td>POLYGON ((-49.64354 -20.74755, -49.64313 -20.7...</td>\n",
       "    </tr>\n",
       "    <tr>\n",
       "      <th>2</th>\n",
       "      <td>0</td>\n",
       "      <td>POLYGON ((-49.59064 -20.69422, -49.59028 -20.6...</td>\n",
       "    </tr>\n",
       "    <tr>\n",
       "      <th>3</th>\n",
       "      <td>0</td>\n",
       "      <td>POLYGON ((-49.49064 -20.69732, -49.49064 -20.6...</td>\n",
       "    </tr>\n",
       "    <tr>\n",
       "      <th>4</th>\n",
       "      <td>0</td>\n",
       "      <td>POLYGON ((-49.41948 -20.72410, -49.41910 -20.7...</td>\n",
       "    </tr>\n",
       "    <tr>\n",
       "      <th>...</th>\n",
       "      <td>...</td>\n",
       "      <td>...</td>\n",
       "    </tr>\n",
       "    <tr>\n",
       "      <th>523</th>\n",
       "      <td>1</td>\n",
       "      <td>POLYGON ((-48.64985 -20.68600, -48.64952 -20.6...</td>\n",
       "    </tr>\n",
       "    <tr>\n",
       "      <th>524</th>\n",
       "      <td>1</td>\n",
       "      <td>POLYGON ((-48.65862 -20.68487, -48.65849 -20.6...</td>\n",
       "    </tr>\n",
       "    <tr>\n",
       "      <th>525</th>\n",
       "      <td>1</td>\n",
       "      <td>POLYGON ((-48.65712 -20.68539, -48.65680 -20.6...</td>\n",
       "    </tr>\n",
       "    <tr>\n",
       "      <th>526</th>\n",
       "      <td>1</td>\n",
       "      <td>POLYGON ((-48.65898 -20.58830, -48.65866 -20.5...</td>\n",
       "    </tr>\n",
       "    <tr>\n",
       "      <th>527</th>\n",
       "      <td>1</td>\n",
       "      <td>POLYGON ((-48.66186 -20.58486, -48.66184 -20.5...</td>\n",
       "    </tr>\n",
       "  </tbody>\n",
       "</table>\n",
       "<p>528 rows × 2 columns</p>\n",
       "</div>"
      ],
      "text/plain": [
       "     LULC                                           geometry\n",
       "0       0  POLYGON ((-49.42289 -20.73536, -49.42285 -20.7...\n",
       "1       0  POLYGON ((-49.64354 -20.74755, -49.64313 -20.7...\n",
       "2       0  POLYGON ((-49.59064 -20.69422, -49.59028 -20.6...\n",
       "3       0  POLYGON ((-49.49064 -20.69732, -49.49064 -20.6...\n",
       "4       0  POLYGON ((-49.41948 -20.72410, -49.41910 -20.7...\n",
       "..    ...                                                ...\n",
       "523     1  POLYGON ((-48.64985 -20.68600, -48.64952 -20.6...\n",
       "524     1  POLYGON ((-48.65862 -20.68487, -48.65849 -20.6...\n",
       "525     1  POLYGON ((-48.65712 -20.68539, -48.65680 -20.6...\n",
       "526     1  POLYGON ((-48.65898 -20.58830, -48.65866 -20.5...\n",
       "527     1  POLYGON ((-48.66186 -20.58486, -48.66184 -20.5...\n",
       "\n",
       "[528 rows x 2 columns]"
      ]
     },
     "execution_count": 3,
     "metadata": {},
     "output_type": "execute_result"
    }
   ],
   "source": [
    "gdf"
   ]
  },
  {
   "cell_type": "code",
   "execution_count": 4,
   "id": "90221d97",
   "metadata": {},
   "outputs": [],
   "source": [
    "def conecta_db():\n",
    "    con = psycopg2.connect(host='0.0.0.0', \n",
    "                         database='gis',\n",
    "                         user='docker',\n",
    "                         password = 'docker',\n",
    "                         port = 25432)\n",
    "    return con"
   ]
  },
  {
   "cell_type": "code",
   "execution_count": 5,
   "id": "9d40825c",
   "metadata": {},
   "outputs": [],
   "source": [
    "def inserir_db(sql,params):\n",
    "    con = conecta_db()\n",
    "    cur = con.cursor()\n",
    "    #try:\n",
    "    cur.execute(sql,params)\n",
    "    con.commit()\n",
    "    cur.close()"
   ]
  },
  {
   "cell_type": "code",
   "execution_count": 6,
   "id": "d51eb22e",
   "metadata": {},
   "outputs": [],
   "source": [
    "gdf['geometry'] = gdf['geometry'].apply(lambda x: str(x)[9:-1].replace('(','').replace(')',''))"
   ]
  },
  {
   "cell_type": "code",
   "execution_count": 7,
   "id": "c71df5f1",
   "metadata": {},
   "outputs": [
    {
     "data": {
      "text/html": [
       "<div>\n",
       "<style scoped>\n",
       "    .dataframe tbody tr th:only-of-type {\n",
       "        vertical-align: middle;\n",
       "    }\n",
       "\n",
       "    .dataframe tbody tr th {\n",
       "        vertical-align: top;\n",
       "    }\n",
       "\n",
       "    .dataframe thead th {\n",
       "        text-align: right;\n",
       "    }\n",
       "</style>\n",
       "<table border=\"1\" class=\"dataframe\">\n",
       "  <thead>\n",
       "    <tr style=\"text-align: right;\">\n",
       "      <th></th>\n",
       "      <th>LULC</th>\n",
       "      <th>geometry</th>\n",
       "    </tr>\n",
       "  </thead>\n",
       "  <tbody>\n",
       "    <tr>\n",
       "      <th>0</th>\n",
       "      <td>0</td>\n",
       "      <td>-49.42289299393238 -20.73536312895599, -49.422...</td>\n",
       "    </tr>\n",
       "    <tr>\n",
       "      <th>1</th>\n",
       "      <td>0</td>\n",
       "      <td>-49.64353995566358 -20.747549817902662, -49.64...</td>\n",
       "    </tr>\n",
       "    <tr>\n",
       "      <th>2</th>\n",
       "      <td>0</td>\n",
       "      <td>-49.59063982144597 -20.69422238967157, -49.590...</td>\n",
       "    </tr>\n",
       "    <tr>\n",
       "      <th>3</th>\n",
       "      <td>0</td>\n",
       "      <td>-49.490636297627546 -20.697318687997623, -49.4...</td>\n",
       "    </tr>\n",
       "    <tr>\n",
       "      <th>4</th>\n",
       "      <td>0</td>\n",
       "      <td>-49.41948456607041 -20.724101399315774, -49.41...</td>\n",
       "    </tr>\n",
       "    <tr>\n",
       "      <th>...</th>\n",
       "      <td>...</td>\n",
       "      <td>...</td>\n",
       "    </tr>\n",
       "    <tr>\n",
       "      <th>523</th>\n",
       "      <td>1</td>\n",
       "      <td>-48.64985413002123 -20.68600305131959, -48.649...</td>\n",
       "    </tr>\n",
       "    <tr>\n",
       "      <th>524</th>\n",
       "      <td>1</td>\n",
       "      <td>-48.65861958625936 -20.684867217306167, -48.65...</td>\n",
       "    </tr>\n",
       "    <tr>\n",
       "      <th>525</th>\n",
       "      <td>1</td>\n",
       "      <td>-48.657117549214384 -20.685389152212498, -48.6...</td>\n",
       "    </tr>\n",
       "    <tr>\n",
       "      <th>526</th>\n",
       "      <td>1</td>\n",
       "      <td>-48.65898469631072 -20.58829677779559, -48.658...</td>\n",
       "    </tr>\n",
       "    <tr>\n",
       "      <th>527</th>\n",
       "      <td>1</td>\n",
       "      <td>-48.66186019623188 -20.584862632271964, -48.66...</td>\n",
       "    </tr>\n",
       "  </tbody>\n",
       "</table>\n",
       "<p>528 rows × 2 columns</p>\n",
       "</div>"
      ],
      "text/plain": [
       "     LULC                                           geometry\n",
       "0       0  -49.42289299393238 -20.73536312895599, -49.422...\n",
       "1       0  -49.64353995566358 -20.747549817902662, -49.64...\n",
       "2       0  -49.59063982144597 -20.69422238967157, -49.590...\n",
       "3       0  -49.490636297627546 -20.697318687997623, -49.4...\n",
       "4       0  -49.41948456607041 -20.724101399315774, -49.41...\n",
       "..    ...                                                ...\n",
       "523     1  -48.64985413002123 -20.68600305131959, -48.649...\n",
       "524     1  -48.65861958625936 -20.684867217306167, -48.65...\n",
       "525     1  -48.657117549214384 -20.685389152212498, -48.6...\n",
       "526     1  -48.65898469631072 -20.58829677779559, -48.658...\n",
       "527     1  -48.66186019623188 -20.584862632271964, -48.66...\n",
       "\n",
       "[528 rows x 2 columns]"
      ]
     },
     "execution_count": 7,
     "metadata": {},
     "output_type": "execute_result"
    }
   ],
   "source": [
    "gdf"
   ]
  },
  {
   "cell_type": "code",
   "execution_count": 16,
   "id": "8620e7d2",
   "metadata": {},
   "outputs": [
    {
     "data": {
      "application/vnd.jupyter.widget-view+json": {
       "model_id": "83ea93b8b6694b258809f59c42b6c5bb",
       "version_major": 2,
       "version_minor": 0
      },
      "text/plain": [
       "  0%|          | 0/528 [00:00<?, ?it/s]"
      ]
     },
     "metadata": {},
     "output_type": "display_data"
    }
   ],
   "source": [
    "pbar = tqdm(total = len(gdf))\n",
    "\n",
    "for i in gdf.index:\n",
    "    sql = \"\"\"\n",
    "    INSERT into public.amostras (idlulcn,coordenadas,geom) \n",
    "    values(%s,%s,ST_GeomFromText(%s, 4326));\n",
    "    \"\"\"\n",
    "    params = [int(gdf['LULC'][i]),gdf['geometry'][i],'POLYGON(({}))'.format(gdf['geometry'][i])]\n",
    "    inserir_db(sql,params)\n",
    "    \n",
    "    pbar.update(1)"
   ]
  },
  {
   "cell_type": "code",
   "execution_count": 15,
   "id": "3f9bc5b5",
   "metadata": {},
   "outputs": [
    {
     "data": {
      "text/plain": [
       "201"
      ]
     },
     "execution_count": 15,
     "metadata": {},
     "output_type": "execute_result"
    }
   ],
   "source": [
    "len(str(gdf['geometry'][3]))"
   ]
  },
  {
   "cell_type": "code",
   "execution_count": null,
   "id": "a7f6dc19",
   "metadata": {},
   "outputs": [],
   "source": []
  }
 ],
 "metadata": {
  "kernelspec": {
   "display_name": "Python 3 (ipykernel)",
   "language": "python",
   "name": "python3"
  },
  "language_info": {
   "codemirror_mode": {
    "name": "ipython",
    "version": 3
   },
   "file_extension": ".py",
   "mimetype": "text/x-python",
   "name": "python",
   "nbconvert_exporter": "python",
   "pygments_lexer": "ipython3",
   "version": "3.8.10"
  }
 },
 "nbformat": 4,
 "nbformat_minor": 5
}
