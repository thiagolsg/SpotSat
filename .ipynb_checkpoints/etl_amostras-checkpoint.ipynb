{
 "cells": [
  {
   "cell_type": "code",
   "execution_count": 5,
   "id": "d06d8b92",
   "metadata": {},
   "outputs": [],
   "source": [
    "import geopandas as gpd\n",
    "import warnings\n",
    "warnings.filterwarnings('ignore') # somente para ignorar os warnings\n",
    "import pandas as pd # ferramenta para ciencia de dados\n",
    "import requests\n",
    "import time\n",
    "from tqdm import tqdm_notebook as tqdm # barra de progresso\n",
    "import json\n",
    "from tqdm import tqdm_notebook as tqdm\n",
    "import psycopg2"
   ]
  },
  {
   "cell_type": "code",
   "execution_count": 3,
   "id": "a12c3a03",
   "metadata": {},
   "outputs": [],
   "source": [
    "gdf = gpd.read_file(\"amostras.geojson\")"
   ]
  },
  {
   "cell_type": "code",
   "execution_count": 4,
   "id": "39cf2bd8",
   "metadata": {},
   "outputs": [
    {
     "data": {
      "text/html": [
       "<div>\n",
       "<style scoped>\n",
       "    .dataframe tbody tr th:only-of-type {\n",
       "        vertical-align: middle;\n",
       "    }\n",
       "\n",
       "    .dataframe tbody tr th {\n",
       "        vertical-align: top;\n",
       "    }\n",
       "\n",
       "    .dataframe thead th {\n",
       "        text-align: right;\n",
       "    }\n",
       "</style>\n",
       "<table border=\"1\" class=\"dataframe\">\n",
       "  <thead>\n",
       "    <tr style=\"text-align: right;\">\n",
       "      <th></th>\n",
       "      <th>LULC</th>\n",
       "      <th>geometry</th>\n",
       "    </tr>\n",
       "  </thead>\n",
       "  <tbody>\n",
       "    <tr>\n",
       "      <th>0</th>\n",
       "      <td>0</td>\n",
       "      <td>POLYGON ((-49.42289 -20.73536, -49.42285 -20.7...</td>\n",
       "    </tr>\n",
       "    <tr>\n",
       "      <th>1</th>\n",
       "      <td>0</td>\n",
       "      <td>POLYGON ((-49.64354 -20.74755, -49.64313 -20.7...</td>\n",
       "    </tr>\n",
       "    <tr>\n",
       "      <th>2</th>\n",
       "      <td>0</td>\n",
       "      <td>POLYGON ((-49.59064 -20.69422, -49.59028 -20.6...</td>\n",
       "    </tr>\n",
       "    <tr>\n",
       "      <th>3</th>\n",
       "      <td>0</td>\n",
       "      <td>POLYGON ((-49.49064 -20.69732, -49.49064 -20.6...</td>\n",
       "    </tr>\n",
       "    <tr>\n",
       "      <th>4</th>\n",
       "      <td>0</td>\n",
       "      <td>POLYGON ((-49.41948 -20.72410, -49.41910 -20.7...</td>\n",
       "    </tr>\n",
       "    <tr>\n",
       "      <th>...</th>\n",
       "      <td>...</td>\n",
       "      <td>...</td>\n",
       "    </tr>\n",
       "    <tr>\n",
       "      <th>523</th>\n",
       "      <td>1</td>\n",
       "      <td>POLYGON ((-48.64985 -20.68600, -48.64952 -20.6...</td>\n",
       "    </tr>\n",
       "    <tr>\n",
       "      <th>524</th>\n",
       "      <td>1</td>\n",
       "      <td>POLYGON ((-48.65862 -20.68487, -48.65849 -20.6...</td>\n",
       "    </tr>\n",
       "    <tr>\n",
       "      <th>525</th>\n",
       "      <td>1</td>\n",
       "      <td>POLYGON ((-48.65712 -20.68539, -48.65680 -20.6...</td>\n",
       "    </tr>\n",
       "    <tr>\n",
       "      <th>526</th>\n",
       "      <td>1</td>\n",
       "      <td>POLYGON ((-48.65898 -20.58830, -48.65866 -20.5...</td>\n",
       "    </tr>\n",
       "    <tr>\n",
       "      <th>527</th>\n",
       "      <td>1</td>\n",
       "      <td>POLYGON ((-48.66186 -20.58486, -48.66184 -20.5...</td>\n",
       "    </tr>\n",
       "  </tbody>\n",
       "</table>\n",
       "<p>528 rows × 2 columns</p>\n",
       "</div>"
      ],
      "text/plain": [
       "     LULC                                           geometry\n",
       "0       0  POLYGON ((-49.42289 -20.73536, -49.42285 -20.7...\n",
       "1       0  POLYGON ((-49.64354 -20.74755, -49.64313 -20.7...\n",
       "2       0  POLYGON ((-49.59064 -20.69422, -49.59028 -20.6...\n",
       "3       0  POLYGON ((-49.49064 -20.69732, -49.49064 -20.6...\n",
       "4       0  POLYGON ((-49.41948 -20.72410, -49.41910 -20.7...\n",
       "..    ...                                                ...\n",
       "523     1  POLYGON ((-48.64985 -20.68600, -48.64952 -20.6...\n",
       "524     1  POLYGON ((-48.65862 -20.68487, -48.65849 -20.6...\n",
       "525     1  POLYGON ((-48.65712 -20.68539, -48.65680 -20.6...\n",
       "526     1  POLYGON ((-48.65898 -20.58830, -48.65866 -20.5...\n",
       "527     1  POLYGON ((-48.66186 -20.58486, -48.66184 -20.5...\n",
       "\n",
       "[528 rows x 2 columns]"
      ]
     },
     "execution_count": 4,
     "metadata": {},
     "output_type": "execute_result"
    }
   ],
   "source": [
    "gdf"
   ]
  },
  {
   "cell_type": "code",
   "execution_count": 6,
   "id": "2721db14",
   "metadata": {},
   "outputs": [],
   "source": [
    "def conecta_db():\n",
    "    con = psycopg2.connect(host='0.0.0.0', \n",
    "                         database='gis',\n",
    "                         user='docker',\n",
    "                         password = 'docker',\n",
    "                         port = 25432)\n",
    "    return con"
   ]
  },
  {
   "cell_type": "code",
   "execution_count": 7,
   "id": "d3ab43da",
   "metadata": {},
   "outputs": [],
   "source": [
    "def inserir_db(sql,params):\n",
    "    con = conecta_db()\n",
    "    cur = con.cursor()\n",
    "    #try:\n",
    "    cur.execute(sql,params)\n",
    "    con.commit()\n",
    "#     except (Exception, psycopg2.DatabaseError) as error:\n",
    "#         print(\"Error: %s\" % error)\n",
    "#         con.rollback()\n",
    "#         cur.close()\n",
    "#         return 1\n",
    "    cur.close()"
   ]
  },
  {
   "cell_type": "code",
   "execution_count": 10,
   "id": "0ccf85bf",
   "metadata": {},
   "outputs": [
    {
     "data": {
      "application/vnd.jupyter.widget-view+json": {
       "model_id": "c058ee62acd04409a684f7c610347a55",
       "version_major": 2,
       "version_minor": 0
      },
      "text/plain": [
       "  0%|          | 0/528 [00:00<?, ?it/s]"
      ]
     },
     "metadata": {},
     "output_type": "display_data"
    },
    {
     "ename": "InternalError_",
     "evalue": "parse error - invalid geometry\nHINT:  \"POLYGON(POLYGON \" <-- parse error at position 16 within geometry\n",
     "output_type": "error",
     "traceback": [
      "\u001b[0;31m---------------------------------------------------------------------------\u001b[0m",
      "\u001b[0;31mInternalError_\u001b[0m                            Traceback (most recent call last)",
      "Input \u001b[0;32mIn [10]\u001b[0m, in \u001b[0;36m<cell line: 3>\u001b[0;34m()\u001b[0m\n\u001b[1;32m      4\u001b[0m sql \u001b[38;5;241m=\u001b[39m \u001b[38;5;124m\"\"\"\u001b[39m\n\u001b[1;32m      5\u001b[0m \u001b[38;5;124mINSERT into public.amostras (idLulcn,geom) \u001b[39m\n\u001b[1;32m      6\u001b[0m \u001b[38;5;124mvalues(\u001b[39m\u001b[38;5;132;01m%s\u001b[39;00m\u001b[38;5;124m,ST_GeomFromText(\u001b[39m\u001b[38;5;132;01m%s\u001b[39;00m\u001b[38;5;124m, 4326));\u001b[39m\n\u001b[1;32m      7\u001b[0m \u001b[38;5;124m\u001b[39m\u001b[38;5;124m\"\"\"\u001b[39m\n\u001b[1;32m      8\u001b[0m params \u001b[38;5;241m=\u001b[39m [\u001b[38;5;28mint\u001b[39m(gdf[\u001b[38;5;124m'\u001b[39m\u001b[38;5;124mLULC\u001b[39m\u001b[38;5;124m'\u001b[39m][i]),\u001b[38;5;124m'\u001b[39m\u001b[38;5;124mPOLYGON(\u001b[39m\u001b[38;5;132;01m{}\u001b[39;00m\u001b[38;5;124m)\u001b[39m\u001b[38;5;124m'\u001b[39m\u001b[38;5;241m.\u001b[39mformat(gdf[\u001b[38;5;124m'\u001b[39m\u001b[38;5;124mgeometry\u001b[39m\u001b[38;5;124m'\u001b[39m][i])]\n\u001b[0;32m----> 9\u001b[0m \u001b[43minserir_db\u001b[49m\u001b[43m(\u001b[49m\u001b[43msql\u001b[49m\u001b[43m,\u001b[49m\u001b[43mparams\u001b[49m\u001b[43m)\u001b[49m\n\u001b[1;32m     11\u001b[0m pbar\u001b[38;5;241m.\u001b[39mupdate(\u001b[38;5;241m1\u001b[39m)\n",
      "Input \u001b[0;32mIn [7]\u001b[0m, in \u001b[0;36minserir_db\u001b[0;34m(sql, params)\u001b[0m\n\u001b[1;32m      3\u001b[0m     cur \u001b[38;5;241m=\u001b[39m con\u001b[38;5;241m.\u001b[39mcursor()\n\u001b[1;32m      4\u001b[0m     \u001b[38;5;66;03m#try:\u001b[39;00m\n\u001b[0;32m----> 5\u001b[0m     \u001b[43mcur\u001b[49m\u001b[38;5;241;43m.\u001b[39;49m\u001b[43mexecute\u001b[49m\u001b[43m(\u001b[49m\u001b[43msql\u001b[49m\u001b[43m,\u001b[49m\u001b[43mparams\u001b[49m\u001b[43m)\u001b[49m\n\u001b[1;32m      6\u001b[0m     con\u001b[38;5;241m.\u001b[39mcommit()\n\u001b[1;32m      7\u001b[0m \u001b[38;5;66;03m#     except (Exception, psycopg2.DatabaseError) as error:\u001b[39;00m\n\u001b[1;32m      8\u001b[0m \u001b[38;5;66;03m#         print(\"Error: %s\" % error)\u001b[39;00m\n\u001b[1;32m      9\u001b[0m \u001b[38;5;66;03m#         con.rollback()\u001b[39;00m\n\u001b[1;32m     10\u001b[0m \u001b[38;5;66;03m#         cur.close()\u001b[39;00m\n\u001b[1;32m     11\u001b[0m \u001b[38;5;66;03m#         return 1\u001b[39;00m\n",
      "\u001b[0;31mInternalError_\u001b[0m: parse error - invalid geometry\nHINT:  \"POLYGON(POLYGON \" <-- parse error at position 16 within geometry\n"
     ]
    }
   ],
   "source": [
    "pbar = tqdm(total = len(gdf))\n",
    "\n",
    "for i in gdf.index:\n",
    "    sql = \"\"\"\n",
    "    INSERT into public.amostras (idLulcn,geom) \n",
    "    values(%s,ST_GeomFromText(%s, 4326));\n",
    "    \"\"\"\n",
    "    params = [int(gdf['LULC'][i]),'POINT({})'.format(gdf['geometry'][i])]\n",
    "    inserir_db(sql,params)\n",
    "    \n",
    "    pbar.update(1)"
   ]
  },
  {
   "cell_type": "code",
   "execution_count": null,
   "id": "c0cee448",
   "metadata": {},
   "outputs": [],
   "source": []
  }
 ],
 "metadata": {
  "kernelspec": {
   "display_name": "Python 3 (ipykernel)",
   "language": "python",
   "name": "python3"
  },
  "language_info": {
   "codemirror_mode": {
    "name": "ipython",
    "version": 3
   },
   "file_extension": ".py",
   "mimetype": "text/x-python",
   "name": "python",
   "nbconvert_exporter": "python",
   "pygments_lexer": "ipython3",
   "version": "3.8.10"
  }
 },
 "nbformat": 4,
 "nbformat_minor": 5
}
